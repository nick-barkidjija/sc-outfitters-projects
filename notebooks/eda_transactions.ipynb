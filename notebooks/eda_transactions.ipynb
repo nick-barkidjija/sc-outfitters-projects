{
 "cells": [
  {
   "cell_type": "code",
   "execution_count": 22,
   "metadata": {},
   "outputs": [],
   "source": [
    "import pandas as pd\n",
    "import numpy as np"
   ]
  },
  {
   "cell_type": "code",
   "execution_count": 23,
   "metadata": {},
   "outputs": [],
   "source": [
    "whole_data = pd.read_csv(\"../data/unified_payments-2.csv\")"
   ]
  },
  {
   "cell_type": "code",
   "execution_count": 24,
   "metadata": {},
   "outputs": [
    {
     "name": "stdout",
     "output_type": "stream",
     "text": [
      "                            id   Created date (UTC)  Amount  Amount Refunded  \\\n",
      "0  ch_3Rjo7XBUvJwtOLts2viYGG6c  2025-07-11 21:04:40    35.0              0.0   \n",
      "1  ch_3RgAlHBUvJwtOLts2cGCOeGE  2025-07-01 20:26:40    35.0              0.0   \n",
      "2  ch_3RKRSaBUvJwtOLts1icj7UI0  2025-05-02 21:49:46    20.0              0.0   \n",
      "3  py_3RKPlUBUvJwtOLts1mYr2s6c  2025-05-02 20:02:17    20.0              0.0   \n",
      "4  ch_3RKO7DBUvJwtOLts0p5g1ugH  2025-05-02 18:16:45    19.0              0.0   \n",
      "\n",
      "  Currency Captured  Converted Amount  Converted Amount Refunded  \\\n",
      "0      usd     True              35.0                        0.0   \n",
      "1      usd     True              35.0                        0.0   \n",
      "2      usd     True              20.0                        0.0   \n",
      "3      usd     True              20.0                        0.0   \n",
      "4      usd     True              19.0                        0.0   \n",
      "\n",
      "  Converted Currency Decline Reason  ... product_6341 (metadata)  \\\n",
      "0                usd            NaN  ...                     NaN   \n",
      "1                usd            NaN  ...                     NaN   \n",
      "2                usd            NaN  ...                     NaN   \n",
      "3                usd            NaN  ...                     NaN   \n",
      "4                usd            NaN  ...                     NaN   \n",
      "\n",
      "   product_6366 (metadata) product_6342 (metadata) created (metadata)  \\\n",
      "0                      NaN                     NaN                NaN   \n",
      "1                      NaN                     NaN                NaN   \n",
      "2                      NaN                     NaN                NaN   \n",
      "3                      NaN                     NaN                NaN   \n",
      "4                      NaN                     NaN                NaN   \n",
      "\n",
      "  partner (metadata) user_agent (metadata)  ip_address (metadata)  \\\n",
      "0                NaN                   NaN                    NaN   \n",
      "1                NaN                   NaN                    NaN   \n",
      "2                NaN                   NaN                    NaN   \n",
      "3                NaN                   NaN                    NaN   \n",
      "4                NaN                   NaN                    NaN   \n",
      "\n",
      "  user_id (metadata) order_id (metadata)  gateway_id (metadata)  \n",
      "0                NaN                 NaN                    NaN  \n",
      "1                NaN                 NaN                    NaN  \n",
      "2                NaN          57727662.0                    NaN  \n",
      "3                NaN          57723020.0                    NaN  \n",
      "4                NaN          57717980.0                    NaN  \n",
      "\n",
      "[5 rows x 57 columns]\n"
     ]
    }
   ],
   "source": [
    "print(whole_data.head())"
   ]
  },
  {
   "cell_type": "code",
   "execution_count": 25,
   "metadata": {},
   "outputs": [
    {
     "name": "stdout",
     "output_type": "stream",
     "text": [
      "Index(['id', 'Created date (UTC)', 'Amount', 'Amount Refunded', 'Currency',\n",
      "       'Captured', 'Converted Amount', 'Converted Amount Refunded',\n",
      "       'Converted Currency', 'Decline Reason', 'Description', 'Fee',\n",
      "       'Refunded date (UTC)', 'Statement Descriptor', 'Status',\n",
      "       'Seller Message', 'Taxes On Fee', 'Card ID', 'Customer ID',\n",
      "       'Customer Description', 'Customer Email', 'Invoice ID', 'Transfer',\n",
      "       'event_end_date (metadata)', 'event_start_date (metadata)',\n",
      "       'event_name (metadata)', 'event_id (metadata)',\n",
      "       'email_address (metadata)', 'name (metadata)',\n",
      "       'TicketTailor (metadata)', 'product_6909 (metadata)',\n",
      "       'product_6969 (metadata)', 'product_6758 (metadata)',\n",
      "       'product_6737 (metadata)', 'product_6722 (metadata)',\n",
      "       'product_6754 (metadata)', 'product_6741 (metadata)',\n",
      "       'product_6752 (metadata)', 'product_6782 (metadata)',\n",
      "       'product_6776 (metadata)', 'product_6793 (metadata)',\n",
      "       'product_6735 (metadata)', 'product_6738 (metadata)',\n",
      "       'product_6734 (metadata)', 'product_6725 (metadata)',\n",
      "       'product_6343 (metadata)', 'product_6337 (metadata)',\n",
      "       'product_6341 (metadata)', 'product_6366 (metadata)',\n",
      "       'product_6342 (metadata)', 'created (metadata)', 'partner (metadata)',\n",
      "       'user_agent (metadata)', 'ip_address (metadata)', 'user_id (metadata)',\n",
      "       'order_id (metadata)', 'gateway_id (metadata)'],\n",
      "      dtype='object')\n"
     ]
    }
   ],
   "source": [
    "print(whole_data.columns)"
   ]
  },
  {
   "cell_type": "code",
   "execution_count": 26,
   "metadata": {},
   "outputs": [],
   "source": [
    "useless = [\n",
    "    'TicketTailor (metadata)', 'product_6909 (metadata)',\n",
    "       'product_6969 (metadata)', 'product_6758 (metadata)',\n",
    "       'product_6737 (metadata)', 'product_6722 (metadata)',\n",
    "       'product_6754 (metadata)', 'product_6741 (metadata)',\n",
    "       'product_6752 (metadata)', 'product_6782 (metadata)',\n",
    "       'product_6776 (metadata)', 'product_6793 (metadata)',\n",
    "       'product_6735 (metadata)', 'product_6738 (metadata)',\n",
    "       'product_6734 (metadata)', 'product_6725 (metadata)',\n",
    "       'product_6343 (metadata)', 'product_6337 (metadata)',\n",
    "       'product_6341 (metadata)', 'product_6366 (metadata)',\n",
    "       'product_6342 (metadata)', 'created (metadata)', 'partner (metadata)',\n",
    "       'user_agent (metadata)', 'ip_address (metadata)', 'user_id (metadata)',\n",
    "       'order_id (metadata)', 'gateway_id (metadata)', 'id', 'Captured',\n",
    "       'email_address (metadata)', 'Currency', 'Converted Currency',\n",
    "       'Fee', 'Taxes On Fee', 'Customer Description', 'Customer Email',\n",
    "       'Card ID', 'Transfer', 'Invoice ID'\n",
    "]\n",
    "whole_data = whole_data.drop(columns=useless)"
   ]
  },
  {
   "cell_type": "code",
   "execution_count": 27,
   "metadata": {},
   "outputs": [
    {
     "name": "stdout",
     "output_type": "stream",
     "text": [
      "Index(['Created date (UTC)', 'Amount', 'Amount Refunded', 'Converted Amount',\n",
      "       'Converted Amount Refunded', 'Decline Reason', 'Description',\n",
      "       'Refunded date (UTC)', 'Statement Descriptor', 'Status',\n",
      "       'Seller Message', 'Customer ID', 'event_end_date (metadata)',\n",
      "       'event_start_date (metadata)', 'event_name (metadata)',\n",
      "       'event_id (metadata)', 'name (metadata)'],\n",
      "      dtype='object')\n"
     ]
    }
   ],
   "source": [
    "print(whole_data.columns)"
   ]
  },
  {
   "cell_type": "code",
   "execution_count": 28,
   "metadata": {},
   "outputs": [],
   "source": [
    "import hashlib\n",
    "\n",
    "def hash_name(name):\n",
    "    if pd.isna(name):\n",
    "        return None\n",
    "    return hashlib.sha256(str(name.strip().lower()).encode()).hexdigest()\n",
    "\n",
    "whole_data['anon_name'] = whole_data['name (metadata)'].apply(hash_name)\n",
    "whole_date = whole_data.drop(columns=['name (metadata)'])"
   ]
  },
  {
   "cell_type": "code",
   "execution_count": 30,
   "metadata": {},
   "outputs": [],
   "source": [
    "whole_data.to_csv(\"../data/cleaned_transactions.csv\", index=False)"
   ]
  }
 ],
 "metadata": {
  "kernelspec": {
   "display_name": "base",
   "language": "python",
   "name": "python3"
  },
  "language_info": {
   "codemirror_mode": {
    "name": "ipython",
    "version": 3
   },
   "file_extension": ".py",
   "mimetype": "text/x-python",
   "name": "python",
   "nbconvert_exporter": "python",
   "pygments_lexer": "ipython3",
   "version": "3.9.12"
  },
  "orig_nbformat": 4
 },
 "nbformat": 4,
 "nbformat_minor": 2
}
